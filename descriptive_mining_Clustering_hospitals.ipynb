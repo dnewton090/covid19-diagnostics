{
 "cells": [
  {
   "cell_type": "markdown",
   "metadata": {},
   "source": [
    "# Clustering hospitals according to their bed capacity:\n",
    "\n",
    "Suppose a crisis management board has been initiated and wants to learn the hospital characteristics in terms of their capabilities to handle the high utilisation event of COVID-19. Your task is to conduct clustering on this dataset and describe the minimum number of effective clusters identified.\n",
    "\n",
    "1. [Identify the data quality problems in this dataset such as unusual data types, missing values, etc., and explain how to fix them.](#missing_value)\n",
    "2. Build a clustering model to profile the hospitals based on the beds and ventilators' capacity. Answer the following:\n",
    "    * [What clustering algorithm have you used?](#k_means)\n",
    "    * [List the attributes used in this analysis.](#attri)\n",
    "    * [What is the optimal number of clusters identified? How did you reach this optimal number? ](#elbow)\n",
    "    * [Did you normalise the variables? What was its effect on the model—does the variable normalisation process enable a better clustering solution?](#norm)\n",
    "3. For the model with the optimal number of clusters:\n",
    "    * [visualise the clusters using ‘pairplot’ and interpret the visualisation](#pairplot)\n",
    "    * [characterise the nature of each cluster by giving it a descriptive label and a brief description. Hint: use cluster distribution..](#pairplotExp)\n",
    "4. Build another clustering model to [profile the hospitals based on the service provided as well as their beds and ventilators’ capacity.](#case2) Use the best setting (e.g. [variable normalisations](#norm2), optimal K, etc.) obtained in the previous model. Answer the following:\n",
    "    * [What clustering algorithm have you used?](#kproto)\n",
    "    * [List the attributes used in this analysis.](#attri2)\n",
    "    * [What difference do you see in this clustering interpretation when compared to the previous one?](#differ)\n",
    " "
   ]
  },
  {
   "cell_type": "code",
   "execution_count": 74,
   "metadata": {},
   "outputs": [],
   "source": [
    "#importing Libaries \n",
    "import pandas as pd\n",
    "import numpy as np\n",
    "import seaborn as sns\n",
    "import matplotlib.pyplot as plt\n",
    "from sklearn.cluster import KMeans\n",
    "from kmodes.kmodes import KModes\n",
    "from kmodes.kprototypes import KPrototypes\n"
   ]
  },
  {
   "cell_type": "code",
   "execution_count": 75,
   "metadata": {},
   "outputs": [
    {
     "name": "stdout",
     "output_type": "stream",
     "text": [
      "<class 'pandas.core.frame.DataFrame'>\n",
      "RangeIndex: 6640 entries, 0 to 6639\n",
      "Data columns (total 18 columns):\n",
      " #   Column                           Non-Null Count  Dtype  \n",
      "---  ------                           --------------  -----  \n",
      " 0   X                                6622 non-null   float64\n",
      " 1   Y                                6622 non-null   float64\n",
      " 2   OBJECTID                         6640 non-null   int64  \n",
      " 3   HOSPITAL_NAME                    6640 non-null   object \n",
      " 4   HOSPITAL_TYPE                    6640 non-null   object \n",
      " 5   HQ_ADDRESS                       6640 non-null   object \n",
      " 6   HQ_CITY                          6640 non-null   object \n",
      " 7   HQ_STATE                         6640 non-null   object \n",
      " 8   HQ_ZIP_CODE                      6640 non-null   int64  \n",
      " 9   COUNTY_NAME                      6615 non-null   object \n",
      " 10  STATE_NAME                       6615 non-null   object \n",
      " 11  NUM_LICENSED_BEDS                6444 non-null   float64\n",
      " 12  NUM_STAFFED_BEDS                 6360 non-null   float64\n",
      " 13  NUM_ICU_BEDS                     6640 non-null   int64  \n",
      " 14  ADULT_ICU_BEDS                   6640 non-null   int64  \n",
      " 15  BED_UTILIZATION                  5907 non-null   float64\n",
      " 16  Potential_Increase_In_Bed_Capac  6640 non-null   int64  \n",
      " 17  AVG_VENTILATOR_USAGE             6521 non-null   float64\n",
      "dtypes: float64(6), int64(5), object(7)\n",
      "memory usage: 933.9+ KB\n"
     ]
    }
   ],
   "source": [
    "#reading data from csv file \n",
    "df=pd.read_csv(\"usa_hospital_beds.csv\")\n",
    "df.info()"
   ]
  },
  {
   "cell_type": "code",
   "execution_count": 76,
   "metadata": {},
   "outputs": [
    {
     "data": {
      "text/html": [
       "<div>\n",
       "<style scoped>\n",
       "    .dataframe tbody tr th:only-of-type {\n",
       "        vertical-align: middle;\n",
       "    }\n",
       "\n",
       "    .dataframe tbody tr th {\n",
       "        vertical-align: top;\n",
       "    }\n",
       "\n",
       "    .dataframe thead th {\n",
       "        text-align: right;\n",
       "    }\n",
       "</style>\n",
       "<table border=\"1\" class=\"dataframe\">\n",
       "  <thead>\n",
       "    <tr style=\"text-align: right;\">\n",
       "      <th></th>\n",
       "      <th>X</th>\n",
       "      <th>Y</th>\n",
       "      <th>OBJECTID</th>\n",
       "      <th>HOSPITAL_NAME</th>\n",
       "      <th>HOSPITAL_TYPE</th>\n",
       "      <th>HQ_ADDRESS</th>\n",
       "      <th>HQ_CITY</th>\n",
       "      <th>HQ_STATE</th>\n",
       "      <th>HQ_ZIP_CODE</th>\n",
       "      <th>COUNTY_NAME</th>\n",
       "      <th>STATE_NAME</th>\n",
       "      <th>NUM_LICENSED_BEDS</th>\n",
       "      <th>NUM_STAFFED_BEDS</th>\n",
       "      <th>NUM_ICU_BEDS</th>\n",
       "      <th>ADULT_ICU_BEDS</th>\n",
       "      <th>BED_UTILIZATION</th>\n",
       "      <th>Potential_Increase_In_Bed_Capac</th>\n",
       "      <th>AVG_VENTILATOR_USAGE</th>\n",
       "    </tr>\n",
       "  </thead>\n",
       "  <tbody>\n",
       "    <tr>\n",
       "      <th>0</th>\n",
       "      <td>-112.066157</td>\n",
       "      <td>33.495498</td>\n",
       "      <td>1</td>\n",
       "      <td>Phoenix VA Health Care System (AKA Carl T Ha V...</td>\n",
       "      <td>VA Hospital</td>\n",
       "      <td>650 E Indian School Rd</td>\n",
       "      <td>Phoenix</td>\n",
       "      <td>AZ</td>\n",
       "      <td>85012</td>\n",
       "      <td>Maricopa</td>\n",
       "      <td>Arizona</td>\n",
       "      <td>129.0</td>\n",
       "      <td>129.0</td>\n",
       "      <td>0</td>\n",
       "      <td>0</td>\n",
       "      <td>NaN</td>\n",
       "      <td>0</td>\n",
       "      <td>0.0</td>\n",
       "    </tr>\n",
       "    <tr>\n",
       "      <th>1</th>\n",
       "      <td>-110.965885</td>\n",
       "      <td>32.181263</td>\n",
       "      <td>2</td>\n",
       "      <td>Southern Arizona VA Health Care System</td>\n",
       "      <td>VA Hospital</td>\n",
       "      <td>3601 S 6th Ave</td>\n",
       "      <td>Tucson</td>\n",
       "      <td>AZ</td>\n",
       "      <td>85723</td>\n",
       "      <td>Pima</td>\n",
       "      <td>Arizona</td>\n",
       "      <td>295.0</td>\n",
       "      <td>295.0</td>\n",
       "      <td>2</td>\n",
       "      <td>2</td>\n",
       "      <td>NaN</td>\n",
       "      <td>0</td>\n",
       "      <td>2.0</td>\n",
       "    </tr>\n",
       "    <tr>\n",
       "      <th>2</th>\n",
       "      <td>-119.779742</td>\n",
       "      <td>36.773323</td>\n",
       "      <td>3</td>\n",
       "      <td>VA Central California Health Care System</td>\n",
       "      <td>VA Hospital</td>\n",
       "      <td>2615 E Clinton Ave</td>\n",
       "      <td>Fresno</td>\n",
       "      <td>CA</td>\n",
       "      <td>93703</td>\n",
       "      <td>Fresno</td>\n",
       "      <td>California</td>\n",
       "      <td>57.0</td>\n",
       "      <td>57.0</td>\n",
       "      <td>2</td>\n",
       "      <td>2</td>\n",
       "      <td>NaN</td>\n",
       "      <td>0</td>\n",
       "      <td>2.0</td>\n",
       "    </tr>\n",
       "    <tr>\n",
       "      <th>3</th>\n",
       "      <td>-72.957610</td>\n",
       "      <td>41.284400</td>\n",
       "      <td>4</td>\n",
       "      <td>VA Connecticut Healthcare System - West Haven ...</td>\n",
       "      <td>VA Hospital</td>\n",
       "      <td>950 Campbell Ave</td>\n",
       "      <td>West Haven</td>\n",
       "      <td>CT</td>\n",
       "      <td>6516</td>\n",
       "      <td>New Haven</td>\n",
       "      <td>Connecticut</td>\n",
       "      <td>216.0</td>\n",
       "      <td>216.0</td>\n",
       "      <td>1</td>\n",
       "      <td>1</td>\n",
       "      <td>NaN</td>\n",
       "      <td>0</td>\n",
       "      <td>2.0</td>\n",
       "    </tr>\n",
       "    <tr>\n",
       "      <th>4</th>\n",
       "      <td>-75.606533</td>\n",
       "      <td>39.740206</td>\n",
       "      <td>5</td>\n",
       "      <td>Wilmington VA Medical Center</td>\n",
       "      <td>VA Hospital</td>\n",
       "      <td>1601 Kirkwood Hwy</td>\n",
       "      <td>Wilmington</td>\n",
       "      <td>DE</td>\n",
       "      <td>19805</td>\n",
       "      <td>New Castle</td>\n",
       "      <td>Delaware</td>\n",
       "      <td>60.0</td>\n",
       "      <td>60.0</td>\n",
       "      <td>0</td>\n",
       "      <td>0</td>\n",
       "      <td>NaN</td>\n",
       "      <td>0</td>\n",
       "      <td>1.0</td>\n",
       "    </tr>\n",
       "    <tr>\n",
       "      <th>...</th>\n",
       "      <td>...</td>\n",
       "      <td>...</td>\n",
       "      <td>...</td>\n",
       "      <td>...</td>\n",
       "      <td>...</td>\n",
       "      <td>...</td>\n",
       "      <td>...</td>\n",
       "      <td>...</td>\n",
       "      <td>...</td>\n",
       "      <td>...</td>\n",
       "      <td>...</td>\n",
       "      <td>...</td>\n",
       "      <td>...</td>\n",
       "      <td>...</td>\n",
       "      <td>...</td>\n",
       "      <td>...</td>\n",
       "      <td>...</td>\n",
       "      <td>...</td>\n",
       "    </tr>\n",
       "    <tr>\n",
       "      <th>6635</th>\n",
       "      <td>-93.712727</td>\n",
       "      <td>32.449542</td>\n",
       "      <td>6636</td>\n",
       "      <td>Shreveport Rehabilitation Hospital</td>\n",
       "      <td>Rehabilitation Hospital</td>\n",
       "      <td>1451 Fern Cir</td>\n",
       "      <td>Shreveport</td>\n",
       "      <td>LA</td>\n",
       "      <td>71105</td>\n",
       "      <td>Caddo</td>\n",
       "      <td>Louisiana</td>\n",
       "      <td>NaN</td>\n",
       "      <td>NaN</td>\n",
       "      <td>0</td>\n",
       "      <td>0</td>\n",
       "      <td>NaN</td>\n",
       "      <td>0</td>\n",
       "      <td>NaN</td>\n",
       "    </tr>\n",
       "    <tr>\n",
       "      <th>6636</th>\n",
       "      <td>-76.151657</td>\n",
       "      <td>36.788612</td>\n",
       "      <td>6637</td>\n",
       "      <td>Pleasant Valley Medical Center</td>\n",
       "      <td>Short Term Acute Care Hospital</td>\n",
       "      <td>4221 Pleasant Valley Rd</td>\n",
       "      <td>Virginia Beach</td>\n",
       "      <td>VA</td>\n",
       "      <td>23464</td>\n",
       "      <td>Virginia Beach</td>\n",
       "      <td>Virginia</td>\n",
       "      <td>NaN</td>\n",
       "      <td>NaN</td>\n",
       "      <td>0</td>\n",
       "      <td>0</td>\n",
       "      <td>NaN</td>\n",
       "      <td>0</td>\n",
       "      <td>NaN</td>\n",
       "    </tr>\n",
       "    <tr>\n",
       "      <th>6637</th>\n",
       "      <td>-91.099236</td>\n",
       "      <td>30.399164</td>\n",
       "      <td>6638</td>\n",
       "      <td>Sage Specialty Hospital - Baton Rouge</td>\n",
       "      <td>Short Term Acute Care Hospital</td>\n",
       "      <td>8225 Summa Ave</td>\n",
       "      <td>Baton Rouge</td>\n",
       "      <td>LA</td>\n",
       "      <td>70809</td>\n",
       "      <td>East Baton Rouge</td>\n",
       "      <td>Louisiana</td>\n",
       "      <td>NaN</td>\n",
       "      <td>NaN</td>\n",
       "      <td>0</td>\n",
       "      <td>0</td>\n",
       "      <td>NaN</td>\n",
       "      <td>0</td>\n",
       "      <td>NaN</td>\n",
       "    </tr>\n",
       "    <tr>\n",
       "      <th>6638</th>\n",
       "      <td>-80.815620</td>\n",
       "      <td>34.189204</td>\n",
       "      <td>6639</td>\n",
       "      <td>Midlands Regional Rehabilitation Hospital</td>\n",
       "      <td>Rehabilitation Hospital</td>\n",
       "      <td>20 Pinnacle Pkwy</td>\n",
       "      <td>Elgin</td>\n",
       "      <td>SC</td>\n",
       "      <td>29045</td>\n",
       "      <td>Kershaw</td>\n",
       "      <td>South Carolina</td>\n",
       "      <td>NaN</td>\n",
       "      <td>NaN</td>\n",
       "      <td>0</td>\n",
       "      <td>0</td>\n",
       "      <td>NaN</td>\n",
       "      <td>0</td>\n",
       "      <td>NaN</td>\n",
       "    </tr>\n",
       "    <tr>\n",
       "      <th>6639</th>\n",
       "      <td>-95.086205</td>\n",
       "      <td>29.549551</td>\n",
       "      <td>6640</td>\n",
       "      <td>Houston Methodist Clear Lake Hospital</td>\n",
       "      <td>Short Term Acute Care Hospital</td>\n",
       "      <td>18300 Houston Methodist Dr</td>\n",
       "      <td>Houston</td>\n",
       "      <td>TX</td>\n",
       "      <td>77058</td>\n",
       "      <td>Harris</td>\n",
       "      <td>Texas</td>\n",
       "      <td>NaN</td>\n",
       "      <td>NaN</td>\n",
       "      <td>0</td>\n",
       "      <td>0</td>\n",
       "      <td>NaN</td>\n",
       "      <td>0</td>\n",
       "      <td>NaN</td>\n",
       "    </tr>\n",
       "  </tbody>\n",
       "</table>\n",
       "<p>6640 rows × 18 columns</p>\n",
       "</div>"
      ],
      "text/plain": [
       "               X          Y  OBJECTID  \\\n",
       "0    -112.066157  33.495498         1   \n",
       "1    -110.965885  32.181263         2   \n",
       "2    -119.779742  36.773323         3   \n",
       "3     -72.957610  41.284400         4   \n",
       "4     -75.606533  39.740206         5   \n",
       "...          ...        ...       ...   \n",
       "6635  -93.712727  32.449542      6636   \n",
       "6636  -76.151657  36.788612      6637   \n",
       "6637  -91.099236  30.399164      6638   \n",
       "6638  -80.815620  34.189204      6639   \n",
       "6639  -95.086205  29.549551      6640   \n",
       "\n",
       "                                          HOSPITAL_NAME  \\\n",
       "0     Phoenix VA Health Care System (AKA Carl T Ha V...   \n",
       "1                Southern Arizona VA Health Care System   \n",
       "2              VA Central California Health Care System   \n",
       "3     VA Connecticut Healthcare System - West Haven ...   \n",
       "4                          Wilmington VA Medical Center   \n",
       "...                                                 ...   \n",
       "6635                 Shreveport Rehabilitation Hospital   \n",
       "6636                     Pleasant Valley Medical Center   \n",
       "6637              Sage Specialty Hospital - Baton Rouge   \n",
       "6638          Midlands Regional Rehabilitation Hospital   \n",
       "6639              Houston Methodist Clear Lake Hospital   \n",
       "\n",
       "                       HOSPITAL_TYPE                  HQ_ADDRESS  \\\n",
       "0                        VA Hospital      650 E Indian School Rd   \n",
       "1                        VA Hospital              3601 S 6th Ave   \n",
       "2                        VA Hospital          2615 E Clinton Ave   \n",
       "3                        VA Hospital            950 Campbell Ave   \n",
       "4                        VA Hospital           1601 Kirkwood Hwy   \n",
       "...                              ...                         ...   \n",
       "6635         Rehabilitation Hospital               1451 Fern Cir   \n",
       "6636  Short Term Acute Care Hospital     4221 Pleasant Valley Rd   \n",
       "6637  Short Term Acute Care Hospital              8225 Summa Ave   \n",
       "6638         Rehabilitation Hospital            20 Pinnacle Pkwy   \n",
       "6639  Short Term Acute Care Hospital  18300 Houston Methodist Dr   \n",
       "\n",
       "             HQ_CITY HQ_STATE  HQ_ZIP_CODE       COUNTY_NAME      STATE_NAME  \\\n",
       "0            Phoenix       AZ        85012          Maricopa         Arizona   \n",
       "1             Tucson       AZ        85723              Pima         Arizona   \n",
       "2             Fresno       CA        93703            Fresno      California   \n",
       "3         West Haven       CT         6516         New Haven     Connecticut   \n",
       "4         Wilmington       DE        19805        New Castle        Delaware   \n",
       "...              ...      ...          ...               ...             ...   \n",
       "6635      Shreveport       LA        71105             Caddo       Louisiana   \n",
       "6636  Virginia Beach       VA        23464    Virginia Beach        Virginia   \n",
       "6637     Baton Rouge       LA        70809  East Baton Rouge       Louisiana   \n",
       "6638           Elgin       SC        29045           Kershaw  South Carolina   \n",
       "6639         Houston       TX        77058            Harris           Texas   \n",
       "\n",
       "      NUM_LICENSED_BEDS  NUM_STAFFED_BEDS  NUM_ICU_BEDS  ADULT_ICU_BEDS  \\\n",
       "0                 129.0             129.0             0               0   \n",
       "1                 295.0             295.0             2               2   \n",
       "2                  57.0              57.0             2               2   \n",
       "3                 216.0             216.0             1               1   \n",
       "4                  60.0              60.0             0               0   \n",
       "...                 ...               ...           ...             ...   \n",
       "6635                NaN               NaN             0               0   \n",
       "6636                NaN               NaN             0               0   \n",
       "6637                NaN               NaN             0               0   \n",
       "6638                NaN               NaN             0               0   \n",
       "6639                NaN               NaN             0               0   \n",
       "\n",
       "      BED_UTILIZATION  Potential_Increase_In_Bed_Capac  AVG_VENTILATOR_USAGE  \n",
       "0                 NaN                                0                   0.0  \n",
       "1                 NaN                                0                   2.0  \n",
       "2                 NaN                                0                   2.0  \n",
       "3                 NaN                                0                   2.0  \n",
       "4                 NaN                                0                   1.0  \n",
       "...               ...                              ...                   ...  \n",
       "6635              NaN                                0                   NaN  \n",
       "6636              NaN                                0                   NaN  \n",
       "6637              NaN                                0                   NaN  \n",
       "6638              NaN                                0                   NaN  \n",
       "6639              NaN                                0                   NaN  \n",
       "\n",
       "[6640 rows x 18 columns]"
      ]
     },
     "execution_count": 76,
     "metadata": {},
     "output_type": "execute_result"
    }
   ],
   "source": [
    "df"
   ]
  },
  {
   "cell_type": "code",
   "execution_count": 77,
   "metadata": {},
   "outputs": [
    {
     "data": {
      "text/html": [
       "<div>\n",
       "<style scoped>\n",
       "    .dataframe tbody tr th:only-of-type {\n",
       "        vertical-align: middle;\n",
       "    }\n",
       "\n",
       "    .dataframe tbody tr th {\n",
       "        vertical-align: top;\n",
       "    }\n",
       "\n",
       "    .dataframe thead th {\n",
       "        text-align: right;\n",
       "    }\n",
       "</style>\n",
       "<table border=\"1\" class=\"dataframe\">\n",
       "  <thead>\n",
       "    <tr style=\"text-align: right;\">\n",
       "      <th></th>\n",
       "      <th>X</th>\n",
       "      <th>Y</th>\n",
       "      <th>OBJECTID</th>\n",
       "      <th>HQ_ZIP_CODE</th>\n",
       "      <th>NUM_LICENSED_BEDS</th>\n",
       "      <th>NUM_STAFFED_BEDS</th>\n",
       "      <th>NUM_ICU_BEDS</th>\n",
       "      <th>ADULT_ICU_BEDS</th>\n",
       "      <th>BED_UTILIZATION</th>\n",
       "      <th>Potential_Increase_In_Bed_Capac</th>\n",
       "      <th>AVG_VENTILATOR_USAGE</th>\n",
       "    </tr>\n",
       "  </thead>\n",
       "  <tbody>\n",
       "    <tr>\n",
       "      <th>count</th>\n",
       "      <td>6622.000000</td>\n",
       "      <td>6622.000000</td>\n",
       "      <td>6640.000000</td>\n",
       "      <td>6640.000000</td>\n",
       "      <td>6444.000000</td>\n",
       "      <td>6360.000000</td>\n",
       "      <td>6640.000000</td>\n",
       "      <td>6640.000000</td>\n",
       "      <td>5907.000000</td>\n",
       "      <td>6640.000000</td>\n",
       "      <td>6521.000000</td>\n",
       "    </tr>\n",
       "    <tr>\n",
       "      <th>mean</th>\n",
       "      <td>-92.566564</td>\n",
       "      <td>37.524093</td>\n",
       "      <td>3320.500000</td>\n",
       "      <td>53912.605120</td>\n",
       "      <td>148.954997</td>\n",
       "      <td>128.712107</td>\n",
       "      <td>13.932530</td>\n",
       "      <td>13.932530</td>\n",
       "      <td>0.493387</td>\n",
       "      <td>21.273645</td>\n",
       "      <td>3.568471</td>\n",
       "    </tr>\n",
       "    <tr>\n",
       "      <th>std</th>\n",
       "      <td>16.104124</td>\n",
       "      <td>5.692132</td>\n",
       "      <td>1916.947226</td>\n",
       "      <td>27246.998958</td>\n",
       "      <td>181.836163</td>\n",
       "      <td>159.023374</td>\n",
       "      <td>22.430713</td>\n",
       "      <td>22.430713</td>\n",
       "      <td>0.235928</td>\n",
       "      <td>70.096080</td>\n",
       "      <td>5.478285</td>\n",
       "    </tr>\n",
       "    <tr>\n",
       "      <th>min</th>\n",
       "      <td>-170.685773</td>\n",
       "      <td>-14.290190</td>\n",
       "      <td>1.000000</td>\n",
       "      <td>603.000000</td>\n",
       "      <td>1.000000</td>\n",
       "      <td>1.000000</td>\n",
       "      <td>0.000000</td>\n",
       "      <td>0.000000</td>\n",
       "      <td>0.000329</td>\n",
       "      <td>-883.000000</td>\n",
       "      <td>0.000000</td>\n",
       "    </tr>\n",
       "    <tr>\n",
       "      <th>25%</th>\n",
       "      <td>-98.285496</td>\n",
       "      <td>33.580311</td>\n",
       "      <td>1660.750000</td>\n",
       "      <td>32419.250000</td>\n",
       "      <td>26.000000</td>\n",
       "      <td>25.000000</td>\n",
       "      <td>3.000000</td>\n",
       "      <td>3.000000</td>\n",
       "      <td>0.301370</td>\n",
       "      <td>0.000000</td>\n",
       "      <td>0.000000</td>\n",
       "    </tr>\n",
       "    <tr>\n",
       "      <th>50%</th>\n",
       "      <td>-90.152566</td>\n",
       "      <td>38.240635</td>\n",
       "      <td>3320.500000</td>\n",
       "      <td>55395.500000</td>\n",
       "      <td>76.500000</td>\n",
       "      <td>67.000000</td>\n",
       "      <td>6.000000</td>\n",
       "      <td>6.000000</td>\n",
       "      <td>0.498326</td>\n",
       "      <td>0.000000</td>\n",
       "      <td>2.000000</td>\n",
       "    </tr>\n",
       "    <tr>\n",
       "      <th>75%</th>\n",
       "      <td>-82.031227</td>\n",
       "      <td>41.441194</td>\n",
       "      <td>4980.250000</td>\n",
       "      <td>76464.250000</td>\n",
       "      <td>199.000000</td>\n",
       "      <td>168.000000</td>\n",
       "      <td>16.000000</td>\n",
       "      <td>16.000000</td>\n",
       "      <td>0.678513</td>\n",
       "      <td>22.000000</td>\n",
       "      <td>4.000000</td>\n",
       "    </tr>\n",
       "    <tr>\n",
       "      <th>max</th>\n",
       "      <td>145.724170</td>\n",
       "      <td>71.298900</td>\n",
       "      <td>6640.000000</td>\n",
       "      <td>99929.000000</td>\n",
       "      <td>2059.000000</td>\n",
       "      <td>2247.000000</td>\n",
       "      <td>310.000000</td>\n",
       "      <td>310.000000</td>\n",
       "      <td>1.000000</td>\n",
       "      <td>1446.000000</td>\n",
       "      <td>61.000000</td>\n",
       "    </tr>\n",
       "  </tbody>\n",
       "</table>\n",
       "</div>"
      ],
      "text/plain": [
       "                 X            Y     OBJECTID   HQ_ZIP_CODE  NUM_LICENSED_BEDS  \\\n",
       "count  6622.000000  6622.000000  6640.000000   6640.000000        6444.000000   \n",
       "mean    -92.566564    37.524093  3320.500000  53912.605120         148.954997   \n",
       "std      16.104124     5.692132  1916.947226  27246.998958         181.836163   \n",
       "min    -170.685773   -14.290190     1.000000    603.000000           1.000000   \n",
       "25%     -98.285496    33.580311  1660.750000  32419.250000          26.000000   \n",
       "50%     -90.152566    38.240635  3320.500000  55395.500000          76.500000   \n",
       "75%     -82.031227    41.441194  4980.250000  76464.250000         199.000000   \n",
       "max     145.724170    71.298900  6640.000000  99929.000000        2059.000000   \n",
       "\n",
       "       NUM_STAFFED_BEDS  NUM_ICU_BEDS  ADULT_ICU_BEDS  BED_UTILIZATION  \\\n",
       "count       6360.000000   6640.000000     6640.000000      5907.000000   \n",
       "mean         128.712107     13.932530       13.932530         0.493387   \n",
       "std          159.023374     22.430713       22.430713         0.235928   \n",
       "min            1.000000      0.000000        0.000000         0.000329   \n",
       "25%           25.000000      3.000000        3.000000         0.301370   \n",
       "50%           67.000000      6.000000        6.000000         0.498326   \n",
       "75%          168.000000     16.000000       16.000000         0.678513   \n",
       "max         2247.000000    310.000000      310.000000         1.000000   \n",
       "\n",
       "       Potential_Increase_In_Bed_Capac  AVG_VENTILATOR_USAGE  \n",
       "count                      6640.000000           6521.000000  \n",
       "mean                         21.273645              3.568471  \n",
       "std                          70.096080              5.478285  \n",
       "min                        -883.000000              0.000000  \n",
       "25%                           0.000000              0.000000  \n",
       "50%                           0.000000              2.000000  \n",
       "75%                          22.000000              4.000000  \n",
       "max                        1446.000000             61.000000  "
      ]
     },
     "execution_count": 77,
     "metadata": {},
     "output_type": "execute_result"
    }
   ],
   "source": [
    "df.describe()"
   ]
  },
  {
   "cell_type": "markdown",
   "metadata": {},
   "source": [
    "<a id=\"attri\"></a>\n",
    "# Build a clustering model to profile the hospitals based on the beds and ventilators' capacity. \n"
   ]
  },
  {
   "cell_type": "code",
   "execution_count": 78,
   "metadata": {},
   "outputs": [
    {
     "data": {
      "text/html": [
       "<div>\n",
       "<style scoped>\n",
       "    .dataframe tbody tr th:only-of-type {\n",
       "        vertical-align: middle;\n",
       "    }\n",
       "\n",
       "    .dataframe tbody tr th {\n",
       "        vertical-align: top;\n",
       "    }\n",
       "\n",
       "    .dataframe thead th {\n",
       "        text-align: right;\n",
       "    }\n",
       "</style>\n",
       "<table border=\"1\" class=\"dataframe\">\n",
       "  <thead>\n",
       "    <tr style=\"text-align: right;\">\n",
       "      <th></th>\n",
       "      <th>NUM_STAFFED_BEDS</th>\n",
       "      <th>AVG_VENTILATOR_USAGE</th>\n",
       "    </tr>\n",
       "  </thead>\n",
       "  <tbody>\n",
       "    <tr>\n",
       "      <th>count</th>\n",
       "      <td>6360.000000</td>\n",
       "      <td>6521.000000</td>\n",
       "    </tr>\n",
       "    <tr>\n",
       "      <th>mean</th>\n",
       "      <td>128.712107</td>\n",
       "      <td>3.568471</td>\n",
       "    </tr>\n",
       "    <tr>\n",
       "      <th>std</th>\n",
       "      <td>159.023374</td>\n",
       "      <td>5.478285</td>\n",
       "    </tr>\n",
       "    <tr>\n",
       "      <th>min</th>\n",
       "      <td>1.000000</td>\n",
       "      <td>0.000000</td>\n",
       "    </tr>\n",
       "    <tr>\n",
       "      <th>25%</th>\n",
       "      <td>25.000000</td>\n",
       "      <td>0.000000</td>\n",
       "    </tr>\n",
       "    <tr>\n",
       "      <th>50%</th>\n",
       "      <td>67.000000</td>\n",
       "      <td>2.000000</td>\n",
       "    </tr>\n",
       "    <tr>\n",
       "      <th>75%</th>\n",
       "      <td>168.000000</td>\n",
       "      <td>4.000000</td>\n",
       "    </tr>\n",
       "    <tr>\n",
       "      <th>max</th>\n",
       "      <td>2247.000000</td>\n",
       "      <td>61.000000</td>\n",
       "    </tr>\n",
       "  </tbody>\n",
       "</table>\n",
       "</div>"
      ],
      "text/plain": [
       "       NUM_STAFFED_BEDS  AVG_VENTILATOR_USAGE\n",
       "count       6360.000000           6521.000000\n",
       "mean         128.712107              3.568471\n",
       "std          159.023374              5.478285\n",
       "min            1.000000              0.000000\n",
       "25%           25.000000              0.000000\n",
       "50%           67.000000              2.000000\n",
       "75%          168.000000              4.000000\n",
       "max         2247.000000             61.000000"
      ]
     },
     "execution_count": 78,
     "metadata": {},
     "output_type": "execute_result"
    }
   ],
   "source": [
    "#Creating new Dataframe for clustering \n",
    "Cluster_df=df[[\"NUM_STAFFED_BEDS\",\"AVG_VENTILATOR_USAGE\"]]\n",
    "Cluster_df.describe()"
   ]
  },
  {
   "cell_type": "markdown",
   "metadata": {},
   "source": [
    "<a id=\"missing_value\"></a>"
   ]
  },
  {
   "cell_type": "code",
   "execution_count": 79,
   "metadata": {},
   "outputs": [
    {
     "data": {
      "text/plain": [
       "(6640, 2)"
      ]
     },
     "execution_count": 79,
     "metadata": {},
     "output_type": "execute_result"
    }
   ],
   "source": [
    "Cluster_df.shape"
   ]
  },
  {
   "cell_type": "code",
   "execution_count": 80,
   "metadata": {},
   "outputs": [
    {
     "data": {
      "text/plain": [
       "NUM_STAFFED_BEDS        6360\n",
       "AVG_VENTILATOR_USAGE    6521\n",
       "dtype: int64"
      ]
     },
     "execution_count": 80,
     "metadata": {},
     "output_type": "execute_result"
    }
   ],
   "source": [
    "Cluster_df.count()"
   ]
  },
  {
   "cell_type": "markdown",
   "metadata": {},
   "source": [
    "## Missing Values in clustering \n"
   ]
  },
  {
   "cell_type": "markdown",
   "metadata": {},
   "source": [
    "It looks like we are missing some value from Beds and Ventilator. Here imputing missing value with zero is not advised since **K-means** is based on distance and zero will extreme value which can make our cluster baised. \n",
    "For this case we will be replacing missing value of Bed with average and Ventilator with median ."
   ]
  },
  {
   "cell_type": "code",
   "execution_count": 81,
   "metadata": {},
   "outputs": [
    {
     "name": "stderr",
     "output_type": "stream",
     "text": [
      "C:\\Users\\GK\\anaconda3\\lib\\site-packages\\pandas\\core\\generic.py:6245: SettingWithCopyWarning: \n",
      "A value is trying to be set on a copy of a slice from a DataFrame\n",
      "\n",
      "See the caveats in the documentation: https://pandas.pydata.org/pandas-docs/stable/user_guide/indexing.html#returning-a-view-versus-a-copy\n",
      "  self._update_inplace(new_data)\n"
     ]
    }
   ],
   "source": [
    "# replacing missing value of bed with mean which is 128.We got this value from describe function\n",
    "Cluster_df['NUM_STAFFED_BEDS'].fillna(Cluster_df['NUM_STAFFED_BEDS'].mean(), inplace = True)"
   ]
  },
  {
   "cell_type": "code",
   "execution_count": 82,
   "metadata": {},
   "outputs": [
    {
     "data": {
      "text/html": [
       "<div>\n",
       "<style scoped>\n",
       "    .dataframe tbody tr th:only-of-type {\n",
       "        vertical-align: middle;\n",
       "    }\n",
       "\n",
       "    .dataframe tbody tr th {\n",
       "        vertical-align: top;\n",
       "    }\n",
       "\n",
       "    .dataframe thead th {\n",
       "        text-align: right;\n",
       "    }\n",
       "</style>\n",
       "<table border=\"1\" class=\"dataframe\">\n",
       "  <thead>\n",
       "    <tr style=\"text-align: right;\">\n",
       "      <th></th>\n",
       "      <th>NUM_STAFFED_BEDS</th>\n",
       "      <th>AVG_VENTILATOR_USAGE</th>\n",
       "    </tr>\n",
       "  </thead>\n",
       "  <tbody>\n",
       "    <tr>\n",
       "      <th>0</th>\n",
       "      <td>129.000000</td>\n",
       "      <td>0.0</td>\n",
       "    </tr>\n",
       "    <tr>\n",
       "      <th>1</th>\n",
       "      <td>295.000000</td>\n",
       "      <td>2.0</td>\n",
       "    </tr>\n",
       "    <tr>\n",
       "      <th>2</th>\n",
       "      <td>57.000000</td>\n",
       "      <td>2.0</td>\n",
       "    </tr>\n",
       "    <tr>\n",
       "      <th>3</th>\n",
       "      <td>216.000000</td>\n",
       "      <td>2.0</td>\n",
       "    </tr>\n",
       "    <tr>\n",
       "      <th>4</th>\n",
       "      <td>60.000000</td>\n",
       "      <td>1.0</td>\n",
       "    </tr>\n",
       "    <tr>\n",
       "      <th>...</th>\n",
       "      <td>...</td>\n",
       "      <td>...</td>\n",
       "    </tr>\n",
       "    <tr>\n",
       "      <th>6635</th>\n",
       "      <td>128.712107</td>\n",
       "      <td>NaN</td>\n",
       "    </tr>\n",
       "    <tr>\n",
       "      <th>6636</th>\n",
       "      <td>128.712107</td>\n",
       "      <td>NaN</td>\n",
       "    </tr>\n",
       "    <tr>\n",
       "      <th>6637</th>\n",
       "      <td>128.712107</td>\n",
       "      <td>NaN</td>\n",
       "    </tr>\n",
       "    <tr>\n",
       "      <th>6638</th>\n",
       "      <td>128.712107</td>\n",
       "      <td>NaN</td>\n",
       "    </tr>\n",
       "    <tr>\n",
       "      <th>6639</th>\n",
       "      <td>128.712107</td>\n",
       "      <td>NaN</td>\n",
       "    </tr>\n",
       "  </tbody>\n",
       "</table>\n",
       "<p>6640 rows × 2 columns</p>\n",
       "</div>"
      ],
      "text/plain": [
       "      NUM_STAFFED_BEDS  AVG_VENTILATOR_USAGE\n",
       "0           129.000000                   0.0\n",
       "1           295.000000                   2.0\n",
       "2            57.000000                   2.0\n",
       "3           216.000000                   2.0\n",
       "4            60.000000                   1.0\n",
       "...                ...                   ...\n",
       "6635        128.712107                   NaN\n",
       "6636        128.712107                   NaN\n",
       "6637        128.712107                   NaN\n",
       "6638        128.712107                   NaN\n",
       "6639        128.712107                   NaN\n",
       "\n",
       "[6640 rows x 2 columns]"
      ]
     },
     "execution_count": 82,
     "metadata": {},
     "output_type": "execute_result"
    }
   ],
   "source": [
    "Cluster_df"
   ]
  },
  {
   "cell_type": "code",
   "execution_count": 83,
   "metadata": {},
   "outputs": [
    {
     "name": "stderr",
     "output_type": "stream",
     "text": [
      "C:\\Users\\GK\\anaconda3\\lib\\site-packages\\pandas\\core\\generic.py:6245: SettingWithCopyWarning: \n",
      "A value is trying to be set on a copy of a slice from a DataFrame\n",
      "\n",
      "See the caveats in the documentation: https://pandas.pydata.org/pandas-docs/stable/user_guide/indexing.html#returning-a-view-versus-a-copy\n",
      "  self._update_inplace(new_data)\n"
     ]
    }
   ],
   "source": [
    "# replacing missing value of Ventilator with median which is 2.We got this value from describe function\n",
    "Cluster_df['AVG_VENTILATOR_USAGE'].fillna(Cluster_df['AVG_VENTILATOR_USAGE'].mode()[0], inplace = True)"
   ]
  },
  {
   "cell_type": "markdown",
   "metadata": {},
   "source": [
    "## Checking if any value in dataframe is missing "
   ]
  },
  {
   "cell_type": "code",
   "execution_count": 84,
   "metadata": {},
   "outputs": [
    {
     "data": {
      "text/plain": [
       "False"
      ]
     },
     "execution_count": 84,
     "metadata": {},
     "output_type": "execute_result"
    }
   ],
   "source": [
    "Cluster_df.isnull().values.any()"
   ]
  },
  {
   "cell_type": "markdown",
   "metadata": {},
   "source": [
    "<a id=\"elbow\"></a>\n",
    "## Determining  𝐾 with Elbow Method"
   ]
  },
  {
   "cell_type": "markdown",
   "metadata": {},
   "source": [
    "**K-Mean** is unsuperved learning algorithm where we are required to predetermine value of K. K is number of clusters which is key to our clustering process. While there are number of methods like **empirical method ,elbow method ,cross-validation method**. We will using **Elbow Method** particular for this problem . \n",
    "Elbow Method will factor in **inertia**. Inertia is mean squared distance between data point and their centeriod.\n",
    "\n",
    "It should be noted that each time number of clusters increases , total variation decrease. Mathematically there are inversely propertional. It is obvious that total variation will zero only number of cluster is equal to data point.   "
   ]
  },
  {
   "cell_type": "code",
   "execution_count": 85,
   "metadata": {},
   "outputs": [
    {
     "data": {
      "text/plain": [
       "[<matplotlib.lines.Line2D at 0x2e0b79b0610>]"
      ]
     },
     "execution_count": 85,
     "metadata": {},
     "output_type": "execute_result"
    },
    {
     "data": {
      "image/png": "[encoded data removed]",
      "text/plain": [
       "<Figure size 432x288 with 1 Axes>"
      ]
     },
     "metadata": {
      "needs_background": "light"
     },
     "output_type": "display_data"
    }
   ],
   "source": [
    "#Sum of Squared SSE is used\n",
    "sse = []\n",
    "\n",
    "for k in range(1,10):\n",
    "    clustering = KMeans(n_clusters=k)\n",
    "    clustering.fit(Cluster_df[['NUM_STAFFED_BEDS','AVG_VENTILATOR_USAGE']])\n",
    "    sse.append(clustering.inertia_)\n",
    "    \n",
    "plt.xlabel('K')\n",
    "plt.ylabel('Sum of squared error')\n",
    "plt.plot(range(1,10), sse, marker='*')"
   ]
  },
  {
   "cell_type": "markdown",
   "metadata": {},
   "source": [
    "In above **Elbow Plot** we observe that until **K**=3 we have significant decrease in Squared Error.We can see there is no steep change.We will be taking K=3 for this clustering accepting default parameters"
   ]
  },
  {
   "cell_type": "markdown",
   "metadata": {},
   "source": [
    "<a id=\"k_means\"></a>\n",
    "# K-Means Clustering "
   ]
  },
  {
   "cell_type": "markdown",
   "metadata": {},
   "source": [
    "\n",
    "K-means clustering is capable of handling large numeric datatype. It is based on eucladian distance between data point and center of cluster hence it is based on continous data type and are poor in handling catagorical data. \n",
    "K-means clustering suffers from distance meansure problem. If there is difference in scale of variable, variable with larger scale will be dominate over another variable. To overcome this problem , we will be normalising our data. We will use MinMaxScaler scaler for this problem.  "
   ]
  },
  {
   "cell_type": "markdown",
   "metadata": {},
   "source": [
    "<a id=\"norm\"></a>"
   ]
  },
  {
   "cell_type": "code",
   "execution_count": 86,
   "metadata": {},
   "outputs": [
    {
     "data": {
      "text/plain": [
       "array([[0.0569902 , 0.        ],\n",
       "       [0.13089938, 0.03278689],\n",
       "       [0.02493321, 0.03278689],\n",
       "       ...,\n",
       "       [0.05686202, 0.        ],\n",
       "       [0.05686202, 0.        ],\n",
       "       [0.05686202, 0.        ]])"
      ]
     },
     "execution_count": 86,
     "metadata": {},
     "output_type": "execute_result"
    }
   ],
   "source": [
    "#Data Scaling \n",
    "from sklearn.preprocessing import MinMaxScaler\n",
    "# \n",
    "X = Cluster_df.to_numpy()\n",
    "\n",
    "# scaling\n",
    " \n",
    "scaler = MinMaxScaler()\n",
    "X = scaler.fit_transform(X)\n",
    "X"
   ]
  },
  {
   "cell_type": "markdown",
   "metadata": {},
   "source": [
    "# Clustering using Kmeans and appending cluster ID to our clustered dataframe"
   ]
  },
  {
   "cell_type": "code",
   "execution_count": 87,
   "metadata": {},
   "outputs": [
    {
     "name": "stderr",
     "output_type": "stream",
     "text": [
      "<ipython-input-87-aaae445bc6fb>:5: SettingWithCopyWarning: \n",
      "A value is trying to be set on a copy of a slice from a DataFrame.\n",
      "Try using .loc[row_indexer,col_indexer] = value instead\n",
      "\n",
      "See the caveats in the documentation: https://pandas.pydata.org/pandas-docs/stable/user_guide/indexing.html#returning-a-view-versus-a-copy\n",
      "  Cluster_df['Cluster_ID'] = y\n"
     ]
    }
   ],
   "source": [
    "from sklearn.cluster import KMeans\n",
    "clustering = KMeans(n_clusters=3)\n",
    "clustering.fit(X)\n",
    "y = clustering.predict(X)\n",
    "Cluster_df['Cluster_ID'] = y\n"
   ]
  },
  {
   "cell_type": "code",
   "execution_count": 91,
   "metadata": {},
   "outputs": [
    {
     "data": {
      "image/png": "[encoded data removed]",
      "text/plain": [
       "<Figure size 419.125x360 with 6 Axes>"
      ]
     },
     "metadata": {
      "needs_background": "light"
     },
     "output_type": "display_data"
    },
    {
     "name": "stdout",
     "output_type": "stream",
     "text": [
      "Cluster membership\n",
      "1    5236\n",
      "Name: Cluster_ID, dtype: int64\n"
     ]
    }
   ],
   "source": [
    "import seaborn as sns\n",
    "cluster_g = sns.pairplot(Cluster_df, hue='Cluster_ID',diag_kind='hist' ,markers=[\"s\", \"o\", \"D\"],palette=\"Set1\")\n",
    "plt.show()\n"
   ]
  },
  {
   "cell_type": "code",
   "execution_count": 100,
   "metadata": {},
   "outputs": [
    {
     "data": {
      "text/html": [
       "<div>\n",
       "<style scoped>\n",
       "    .dataframe tbody tr th:only-of-type {\n",
       "        vertical-align: middle;\n",
       "    }\n",
       "\n",
       "    .dataframe tbody tr th {\n",
       "        vertical-align: top;\n",
       "    }\n",
       "\n",
       "    .dataframe thead th {\n",
       "        text-align: right;\n",
       "    }\n",
       "</style>\n",
       "<table border=\"1\" class=\"dataframe\">\n",
       "  <thead>\n",
       "    <tr style=\"text-align: right;\">\n",
       "      <th></th>\n",
       "      <th>NUM_STAFFED_BEDS</th>\n",
       "      <th>AVG_VENTILATOR_USAGE</th>\n",
       "      <th>Cluster_ID</th>\n",
       "    </tr>\n",
       "  </thead>\n",
       "  <tbody>\n",
       "    <tr>\n",
       "      <th>63</th>\n",
       "      <td>1100.0</td>\n",
       "      <td>29.0</td>\n",
       "      <td>2</td>\n",
       "    </tr>\n",
       "    <tr>\n",
       "      <th>71</th>\n",
       "      <td>877.0</td>\n",
       "      <td>21.0</td>\n",
       "      <td>2</td>\n",
       "    </tr>\n",
       "    <tr>\n",
       "      <th>97</th>\n",
       "      <td>524.0</td>\n",
       "      <td>31.0</td>\n",
       "      <td>2</td>\n",
       "    </tr>\n",
       "    <tr>\n",
       "      <th>138</th>\n",
       "      <td>615.0</td>\n",
       "      <td>20.0</td>\n",
       "      <td>2</td>\n",
       "    </tr>\n",
       "    <tr>\n",
       "      <th>140</th>\n",
       "      <td>501.0</td>\n",
       "      <td>29.0</td>\n",
       "      <td>2</td>\n",
       "    </tr>\n",
       "    <tr>\n",
       "      <th>...</th>\n",
       "      <td>...</td>\n",
       "      <td>...</td>\n",
       "      <td>...</td>\n",
       "    </tr>\n",
       "    <tr>\n",
       "      <th>5576</th>\n",
       "      <td>524.0</td>\n",
       "      <td>32.0</td>\n",
       "      <td>2</td>\n",
       "    </tr>\n",
       "    <tr>\n",
       "      <th>5581</th>\n",
       "      <td>547.0</td>\n",
       "      <td>41.0</td>\n",
       "      <td>2</td>\n",
       "    </tr>\n",
       "    <tr>\n",
       "      <th>5629</th>\n",
       "      <td>358.0</td>\n",
       "      <td>21.0</td>\n",
       "      <td>2</td>\n",
       "    </tr>\n",
       "    <tr>\n",
       "      <th>5674</th>\n",
       "      <td>862.0</td>\n",
       "      <td>49.0</td>\n",
       "      <td>2</td>\n",
       "    </tr>\n",
       "    <tr>\n",
       "      <th>5911</th>\n",
       "      <td>439.0</td>\n",
       "      <td>22.0</td>\n",
       "      <td>2</td>\n",
       "    </tr>\n",
       "  </tbody>\n",
       "</table>\n",
       "<p>249 rows × 3 columns</p>\n",
       "</div>"
      ],
      "text/plain": [
       "      NUM_STAFFED_BEDS  AVG_VENTILATOR_USAGE  Cluster_ID\n",
       "63              1100.0                  29.0           2\n",
       "71               877.0                  21.0           2\n",
       "97               524.0                  31.0           2\n",
       "138              615.0                  20.0           2\n",
       "140              501.0                  29.0           2\n",
       "...                ...                   ...         ...\n",
       "5576             524.0                  32.0           2\n",
       "5581             547.0                  41.0           2\n",
       "5629             358.0                  21.0           2\n",
       "5674             862.0                  49.0           2\n",
       "5911             439.0                  22.0           2\n",
       "\n",
       "[249 rows x 3 columns]"
      ]
     },
     "execution_count": 100,
     "metadata": {},
     "output_type": "execute_result"
    }
   ],
   "source": [
    "df3"
   ]
  },
  {
   "cell_type": "code",
   "execution_count": 43,
   "metadata": {
    "scrolled": true
   },
   "outputs": [
    {
     "data": {
      "text/plain": [
       "<matplotlib.legend.Legend at 0x2e0b7f837c0>"
      ]
     },
     "execution_count": 43,
     "metadata": {},
     "output_type": "execute_result"
    },
    {
     "data": {
      "image/png": "[encoded data removed]",
      "text/plain": [
       "<Figure size 432x288 with 1 Axes>"
      ]
     },
     "metadata": {
      "needs_background": "light"
     },
     "output_type": "display_data"
    }
   ],
   "source": [
    "#creating dataframe with scaled value to plot Centroid\n",
    "\n",
    "df1 = Cluster_df[Cluster_df.Cluster_ID==0]\n",
    "df2 = Cluster_df[Cluster_df.Cluster_ID==1]\n",
    "df3 = Cluster_df[Cluster_df.Cluster_ID==2]\n",
    "plt.scatter(df1.AVG_VENTILATOR_USAGE,df1.NUM_STAFFED_BEDS,color='Red',label='Cluster 0')\n",
    "plt.scatter(df2.AVG_VENTILATOR_USAGE,df2.NUM_STAFFED_BEDS,color='Blue',label='Cluster 1')\n",
    "plt.scatter(df3.AVG_VENTILATOR_USAGE,df3.NUM_STAFFED_BEDS,color='green',label='Cluster 2')\n",
    "plt.legend()"
   ]
  },
  {
   "cell_type": "markdown",
   "metadata": {},
   "source": [
    "<a id=\"pairplot\"></a>\n",
    "# Nature of each clusters using cluster distribution."
   ]
  },
  {
   "cell_type": "markdown",
   "metadata": {},
   "source": [
    "One of the way to study the charactertis of cluster is by using **distribution plot**. We will be using bin size of 25 which should be appropriate to our data size. We will plot cluster distribution agains the data distribution. This should gives us and idea characteristics of our cluster. Using K-means we were able to form 3 cluster. We will be inspeculating all 3 clusters one by one. \n",
    "We will be using following code courtesy of Associate Professor Richi Nayak."
   ]
  },
  {
   "cell_type": "code",
   "execution_count": 94,
   "metadata": {
    "scrolled": true
   },
   "outputs": [
    {
     "name": "stdout",
     "output_type": "stream",
     "text": [
      "Distribution for cluster 0\n"
     ]
    },
    {
     "data": {
      "image/png": "[encoded data removed]",
      "text/plain": [
       "<Figure size 432x288 with 2 Axes>"
      ]
     },
     "metadata": {
      "needs_background": "light"
     },
     "output_type": "display_data"
    },
    {
     "name": "stdout",
     "output_type": "stream",
     "text": [
      "Distribution for cluster 1\n"
     ]
    },
    {
     "data": {
      "image/png": "[encoded data removed]",
      "text/plain": [
       "<Figure size 432x288 with 2 Axes>"
      ]
     },
     "metadata": {
      "needs_background": "light"
     },
     "output_type": "display_data"
    },
    {
     "name": "stdout",
     "output_type": "stream",
     "text": [
      "Distribution for cluster 2\n"
     ]
    },
    {
     "data": {
      "image/png": "[encoded data removed]",
      "text/plain": [
       "<Figure size 432x288 with 2 Axes>"
      ]
     },
     "metadata": {
      "needs_background": "light"
     },
     "output_type": "display_data"
    }
   ],
   "source": [
    "import warnings\n",
    "warnings.simplefilter(action='ignore', category=FutureWarning)\n",
    "# prepare the column and bin size. Increase bin size to be more specific, but 25 is more than enough\n",
    "cols = ['NUM_STAFFED_BEDS', 'AVG_VENTILATOR_USAGE']\n",
    "n_bins = 25\n",
    "\n",
    "# inspecting cluster 0 and 1\n",
    "clusters_to_inspect = [0,1,2]\n",
    "\n",
    "for cluster in clusters_to_inspect:\n",
    "    # inspecting cluster 0\n",
    "    print(\"Distribution for cluster {}\".format(cluster))\n",
    "\n",
    "    # create subplots\n",
    "    fig, ax = plt.subplots(nrows=2)\n",
    "    ax[0].set_title(\"Cluster {}\".format(cluster))\n",
    "\n",
    "    for j, col in enumerate(cols):\n",
    "        # create the bins\n",
    "        bins = np.linspace(min(Cluster_df[col]), max(Cluster_df[col]), 20)\n",
    "        # plot distribution of the cluster using histogram\n",
    "        sns.distplot(Cluster_df[Cluster_df['Cluster_ID'] == cluster][col], bins=bins, ax=ax[j],hist=False,color=\"b\" )\n",
    "        # plot the normal distribution with a red line\n",
    "        sns.distplot(Cluster_df[col], bins=bins, ax=ax[j], hist=False, color=\"r\")\n",
    "\n",
    "    plt.tight_layout()\n",
    "    plt.show()\n",
    " "
   ]
  },
  {
   "cell_type": "markdown",
   "metadata": {},
   "source": [
    "<a id=\"pairplotExp\"></a>\n",
    "Note:distribution of all record is red and cluster distribution is blue. \n",
    "###  Cluster character\n",
    "  \n",
    "* Cluster 1:Number of staffed bed and ventilator usage is more or less inline with all data distribution. This cluster consists of hospital with least number of bed and ventilator usage in compared to the rest of hospital\n",
    "* Cluster 2:Cluster 2 distribution is leaning away from all data distribution toward right. This shows that the hospital in this distribution have more bed capacity and more ventilator usage. \n",
    "* Cluster 0:The cluster distribution consists middle tier hospital in term of bed numbers. They definately have more number of bed than cluster 1 but less than cluster 2.   "
   ]
  },
  {
   "cell_type": "markdown",
   "metadata": {},
   "source": [
    "<a id=\"case2\"></a>\n",
    "# Profile the hospitals based on the service provided as well as their beds and ventilators’ capacity."
   ]
  },
  {
   "cell_type": "markdown",
   "metadata": {},
   "source": [
    "<a id=\"attri2\"></a>\n",
    "We are now clustering on basis of hospital type. Selecting appropriate attribute i.e. HOSPITAL_TYPE. Hospital type is catagorical datatype."
   ]
  },
  {
   "cell_type": "code",
   "execution_count": 45,
   "metadata": {},
   "outputs": [],
   "source": [
    "Cluster_df2=df[[\"HOSPITAL_TYPE\",\"NUM_STAFFED_BEDS\",\"AVG_VENTILATOR_USAGE\"]]"
   ]
  },
  {
   "cell_type": "code",
   "execution_count": 46,
   "metadata": {},
   "outputs": [
    {
     "data": {
      "text/plain": [
       "array(['VA Hospital', 'Short Term Acute Care Hospital',\n",
       "       'Critical Access Hospital', 'Childrens Hospital',\n",
       "       'Long Term Acute Care Hospital', 'Psychiatric Hospital',\n",
       "       'Rehabilitation Hospital',\n",
       "       'Religious Non-Medical Health Care Institution',\n",
       "       'Department of Defense Hospital'], dtype=object)"
      ]
     },
     "execution_count": 46,
     "metadata": {},
     "output_type": "execute_result"
    }
   ],
   "source": [
    "Cluster_df2[\"HOSPITAL_TYPE\"].unique()"
   ]
  },
  {
   "cell_type": "code",
   "execution_count": 47,
   "metadata": {},
   "outputs": [
    {
     "name": "stdout",
     "output_type": "stream",
     "text": [
      "<class 'pandas.core.frame.DataFrame'>\n",
      "RangeIndex: 6640 entries, 0 to 6639\n",
      "Data columns (total 3 columns):\n",
      " #   Column                Non-Null Count  Dtype  \n",
      "---  ------                --------------  -----  \n",
      " 0   HOSPITAL_TYPE         6640 non-null   object \n",
      " 1   NUM_STAFFED_BEDS      6360 non-null   float64\n",
      " 2   AVG_VENTILATOR_USAGE  6521 non-null   float64\n",
      "dtypes: float64(2), object(1)\n",
      "memory usage: 155.8+ KB\n"
     ]
    }
   ],
   "source": [
    "Cluster_df2.info()"
   ]
  },
  {
   "cell_type": "markdown",
   "metadata": {},
   "source": [
    "Handling missing values with standard mean and median"
   ]
  },
  {
   "cell_type": "code",
   "execution_count": 48,
   "metadata": {},
   "outputs": [
    {
     "name": "stderr",
     "output_type": "stream",
     "text": [
      "C:\\Users\\GK\\anaconda3\\lib\\site-packages\\pandas\\core\\generic.py:6245: SettingWithCopyWarning: \n",
      "A value is trying to be set on a copy of a slice from a DataFrame\n",
      "\n",
      "See the caveats in the documentation: https://pandas.pydata.org/pandas-docs/stable/user_guide/indexing.html#returning-a-view-versus-a-copy\n",
      "  self._update_inplace(new_data)\n"
     ]
    }
   ],
   "source": [
    "# replacing missing value of bed with mean which is 128.We got this value from describe function\n",
    "Cluster_df2['NUM_STAFFED_BEDS'].fillna(128, inplace = True)\n",
    "# replacing missing value of Ventilator with median which is 2.We got this value from describe function\n",
    "Cluster_df2['AVG_VENTILATOR_USAGE'].fillna(2, inplace = True)"
   ]
  },
  {
   "cell_type": "code",
   "execution_count": 49,
   "metadata": {},
   "outputs": [
    {
     "name": "stdout",
     "output_type": "stream",
     "text": [
      "<class 'pandas.core.frame.DataFrame'>\n",
      "RangeIndex: 6640 entries, 0 to 6639\n",
      "Data columns (total 3 columns):\n",
      " #   Column                Non-Null Count  Dtype  \n",
      "---  ------                --------------  -----  \n",
      " 0   HOSPITAL_TYPE         6640 non-null   object \n",
      " 1   NUM_STAFFED_BEDS      6640 non-null   float64\n",
      " 2   AVG_VENTILATOR_USAGE  6640 non-null   float64\n",
      "dtypes: float64(2), object(1)\n",
      "memory usage: 155.8+ KB\n"
     ]
    }
   ],
   "source": [
    "Cluster_df2.info()"
   ]
  },
  {
   "cell_type": "code",
   "execution_count": 50,
   "metadata": {},
   "outputs": [
    {
     "data": {
      "text/plain": [
       "False"
      ]
     },
     "execution_count": 50,
     "metadata": {},
     "output_type": "execute_result"
    }
   ],
   "source": [
    "Cluster_df2.isnull().values.any()"
   ]
  },
  {
   "cell_type": "code",
   "execution_count": 51,
   "metadata": {},
   "outputs": [
    {
     "data": {
      "text/html": [
       "<div>\n",
       "<style scoped>\n",
       "    .dataframe tbody tr th:only-of-type {\n",
       "        vertical-align: middle;\n",
       "    }\n",
       "\n",
       "    .dataframe tbody tr th {\n",
       "        vertical-align: top;\n",
       "    }\n",
       "\n",
       "    .dataframe thead th {\n",
       "        text-align: right;\n",
       "    }\n",
       "</style>\n",
       "<table border=\"1\" class=\"dataframe\">\n",
       "  <thead>\n",
       "    <tr style=\"text-align: right;\">\n",
       "      <th></th>\n",
       "      <th>HOSPITAL_TYPE</th>\n",
       "      <th>NUM_STAFFED_BEDS</th>\n",
       "      <th>AVG_VENTILATOR_USAGE</th>\n",
       "    </tr>\n",
       "  </thead>\n",
       "  <tbody>\n",
       "    <tr>\n",
       "      <th>0</th>\n",
       "      <td>VA Hospital</td>\n",
       "      <td>129.0</td>\n",
       "      <td>0.0</td>\n",
       "    </tr>\n",
       "    <tr>\n",
       "      <th>1</th>\n",
       "      <td>VA Hospital</td>\n",
       "      <td>295.0</td>\n",
       "      <td>2.0</td>\n",
       "    </tr>\n",
       "    <tr>\n",
       "      <th>2</th>\n",
       "      <td>VA Hospital</td>\n",
       "      <td>57.0</td>\n",
       "      <td>2.0</td>\n",
       "    </tr>\n",
       "    <tr>\n",
       "      <th>3</th>\n",
       "      <td>VA Hospital</td>\n",
       "      <td>216.0</td>\n",
       "      <td>2.0</td>\n",
       "    </tr>\n",
       "    <tr>\n",
       "      <th>4</th>\n",
       "      <td>VA Hospital</td>\n",
       "      <td>60.0</td>\n",
       "      <td>1.0</td>\n",
       "    </tr>\n",
       "    <tr>\n",
       "      <th>...</th>\n",
       "      <td>...</td>\n",
       "      <td>...</td>\n",
       "      <td>...</td>\n",
       "    </tr>\n",
       "    <tr>\n",
       "      <th>6635</th>\n",
       "      <td>Rehabilitation Hospital</td>\n",
       "      <td>128.0</td>\n",
       "      <td>2.0</td>\n",
       "    </tr>\n",
       "    <tr>\n",
       "      <th>6636</th>\n",
       "      <td>Short Term Acute Care Hospital</td>\n",
       "      <td>128.0</td>\n",
       "      <td>2.0</td>\n",
       "    </tr>\n",
       "    <tr>\n",
       "      <th>6637</th>\n",
       "      <td>Short Term Acute Care Hospital</td>\n",
       "      <td>128.0</td>\n",
       "      <td>2.0</td>\n",
       "    </tr>\n",
       "    <tr>\n",
       "      <th>6638</th>\n",
       "      <td>Rehabilitation Hospital</td>\n",
       "      <td>128.0</td>\n",
       "      <td>2.0</td>\n",
       "    </tr>\n",
       "    <tr>\n",
       "      <th>6639</th>\n",
       "      <td>Short Term Acute Care Hospital</td>\n",
       "      <td>128.0</td>\n",
       "      <td>2.0</td>\n",
       "    </tr>\n",
       "  </tbody>\n",
       "</table>\n",
       "<p>6640 rows × 3 columns</p>\n",
       "</div>"
      ],
      "text/plain": [
       "                       HOSPITAL_TYPE  NUM_STAFFED_BEDS  AVG_VENTILATOR_USAGE\n",
       "0                        VA Hospital             129.0                   0.0\n",
       "1                        VA Hospital             295.0                   2.0\n",
       "2                        VA Hospital              57.0                   2.0\n",
       "3                        VA Hospital             216.0                   2.0\n",
       "4                        VA Hospital              60.0                   1.0\n",
       "...                              ...               ...                   ...\n",
       "6635         Rehabilitation Hospital             128.0                   2.0\n",
       "6636  Short Term Acute Care Hospital             128.0                   2.0\n",
       "6637  Short Term Acute Care Hospital             128.0                   2.0\n",
       "6638         Rehabilitation Hospital             128.0                   2.0\n",
       "6639  Short Term Acute Care Hospital             128.0                   2.0\n",
       "\n",
       "[6640 rows x 3 columns]"
      ]
     },
     "execution_count": 51,
     "metadata": {},
     "output_type": "execute_result"
    }
   ],
   "source": [
    "Cluster_df2"
   ]
  },
  {
   "cell_type": "code",
   "execution_count": null,
   "metadata": {},
   "outputs": [],
   "source": []
  },
  {
   "cell_type": "code",
   "execution_count": 52,
   "metadata": {
    "scrolled": false
   },
   "outputs": [
    {
     "name": "stderr",
     "output_type": "stream",
     "text": [
      "<ipython-input-52-b0bed99e0303>:3: SettingWithCopyWarning: \n",
      "A value is trying to be set on a copy of a slice from a DataFrame.\n",
      "Try using .loc[row_indexer,col_indexer] = value instead\n",
      "\n",
      "See the caveats in the documentation: https://pandas.pydata.org/pandas-docs/stable/user_guide/indexing.html#returning-a-view-versus-a-copy\n",
      "  Cluster_df2[\"HOSPITAL_TYPE\"] = Cluster_df2[\"HOSPITAL_TYPE\"].map(hospital_map)\n"
     ]
    }
   ],
   "source": [
    "#Mapping catagorical value\n",
    "hospital_map = {'VA Hospital':1, 'Short Term Acute Care Hospital': 2, 'Critical Access Hospital': 3, 'Childrens Hospital': 4, 'Long Term Acute Care Hospital': 5, 'Psychiatric Hospital': 6,'Rehabilitation Hospital':7,'Religious Non-Medical Health Care Institution':8,'Department of Defense Hospital':9}\n",
    "Cluster_df2[\"HOSPITAL_TYPE\"] = Cluster_df2[\"HOSPITAL_TYPE\"].map(hospital_map)"
   ]
  },
  {
   "cell_type": "code",
   "execution_count": 53,
   "metadata": {},
   "outputs": [
    {
     "data": {
      "text/plain": [
       "6640"
      ]
     },
     "execution_count": 53,
     "metadata": {},
     "output_type": "execute_result"
    }
   ],
   "source": [
    "Cluster_df2[\"HOSPITAL_TYPE\"].count()"
   ]
  },
  {
   "cell_type": "code",
   "execution_count": 54,
   "metadata": {
    "scrolled": false
   },
   "outputs": [
    {
     "data": {
      "text/plain": [
       "False"
      ]
     },
     "execution_count": 54,
     "metadata": {},
     "output_type": "execute_result"
    }
   ],
   "source": [
    "Cluster_df2.isnull().values.any()"
   ]
  },
  {
   "cell_type": "markdown",
   "metadata": {},
   "source": [
    "<a id=\"norm2\"></a>\n",
    "# Data scaling for K-Prototype"
   ]
  },
  {
   "cell_type": "code",
   "execution_count": 101,
   "metadata": {},
   "outputs": [
    {
     "data": {
      "text/plain": [
       "array([[0.        , 0.0569902 , 0.        ],\n",
       "       [0.        , 0.13089938, 0.03278689],\n",
       "       [0.        , 0.02493321, 0.03278689],\n",
       "       ...,\n",
       "       [0.125     , 0.05654497, 0.03278689],\n",
       "       [0.75      , 0.05654497, 0.03278689],\n",
       "       [0.125     , 0.05654497, 0.03278689]])"
      ]
     },
     "execution_count": 101,
     "metadata": {},
     "output_type": "execute_result"
    }
   ],
   "source": [
    "#Data Scaling \n",
    "from sklearn.preprocessing import MinMaxScaler\n",
    "# \n",
    "X1 = Cluster_df2.to_numpy()\n",
    "\n",
    "# scaling\n",
    " \n",
    "scaler = MinMaxScaler()\n",
    "X1 = scaler.fit_transform(X1)\n",
    "X1"
   ]
  },
  {
   "cell_type": "markdown",
   "metadata": {},
   "source": [
    "<a id=\"kproto\"></a>\n",
    "# K-prototype Clustering\n",
    "We are dealing with combination of Catagorical and numeric data type. We won't be able to use K-means Clustering since it cannot properly handle catagorical data instead we will be using Kprototype clustering. Kprototype can handle mixed datatype. Determining the K can be trickly since we dont have squared error or inertia. We will be using cost_ to calculate optimium K value"
   ]
  },
  {
   "cell_type": "code",
   "execution_count": 102,
   "metadata": {},
   "outputs": [],
   "source": [
    "# list to save the clusters and cost\n",
    "clusters = []\n",
    "cost_vals = []\n",
    "\n",
    "# this whole process should take a while\n",
    "for k in range(2, 10):\n",
    "    # train clustering with the specified K\n",
    "    model = KPrototypes(n_clusters=k, random_state=10, n_jobs=10)\n",
    "    model.fit_predict(X1, categorical=[0])\n",
    "    \n",
    "    # append model to cluster list\n",
    "    clusters.append(model)\n",
    "    cost_vals.append(model.cost_)"
   ]
  },
  {
   "cell_type": "markdown",
   "metadata": {},
   "source": [
    "Ploting to use Elbow method. We can see K can be any value from 4 to 6. We would normally use silhouette score to find optimium K which is resources hungry. The silhouette coefficient is calculated for both numeric and categorical and average is taken. Silhouette range from -1 to 1. Higher the value is better the cluster will be. For this problem we will taking K=5 from below graph which seems quite right."
   ]
  },
  {
   "cell_type": "code",
   "execution_count": 103,
   "metadata": {},
   "outputs": [
    {
     "data": {
      "image/png": "[encoded data removed]",
      "text/plain": [
       "<Figure size 432x288 with 1 Axes>"
      ]
     },
     "metadata": {
      "needs_background": "light"
     },
     "output_type": "display_data"
    }
   ],
   "source": [
    "# plot the cost vs K values\n",
    "plt.plot(range(2,10), cost_vals, marker='*')\n",
    "plt.show()"
   ]
  },
  {
   "cell_type": "code",
   "execution_count": null,
   "metadata": {},
   "outputs": [],
   "source": []
  },
  {
   "cell_type": "code",
   "execution_count": null,
   "metadata": {},
   "outputs": [],
   "source": []
  },
  {
   "cell_type": "markdown",
   "metadata": {},
   "source": [
    "Ploting Cluster and appending cluster to dataframe"
   ]
  },
  {
   "cell_type": "code",
   "execution_count": 104,
   "metadata": {},
   "outputs": [
    {
     "name": "stderr",
     "output_type": "stream",
     "text": [
      "<ipython-input-104-b236d43ed0d3>:5: SettingWithCopyWarning: \n",
      "A value is trying to be set on a copy of a slice from a DataFrame.\n",
      "Try using .loc[row_indexer,col_indexer] = value instead\n",
      "\n",
      "See the caveats in the documentation: https://pandas.pydata.org/pandas-docs/stable/user_guide/indexing.html#returning-a-view-versus-a-copy\n",
      "  Cluster_df2['Cluster_ID'] = y\n"
     ]
    },
    {
     "name": "stdout",
     "output_type": "stream",
     "text": [
      "Cluster membership\n",
      "3    3151\n",
      "2    1365\n",
      "1    1096\n",
      "4     540\n",
      "0     488\n",
      "Name: Cluster_ID, dtype: int64\n"
     ]
    },
    {
     "data": {
      "image/png": "[encoded data removed]",
      "text/plain": [
       "<Figure size 599.125x540 with 12 Axes>"
      ]
     },
     "metadata": {
      "needs_background": "light"
     },
     "output_type": "display_data"
    }
   ],
   "source": [
    "import seaborn as sns\n",
    "import matplotlib.pyplot as plt\n",
    "model = clusters[3]\n",
    "y=model.fit_predict(X1, categorical=[1]) \n",
    "Cluster_df2['Cluster_ID'] = y \n",
    "\n",
    "# how many records are in each cluster\n",
    "print(\"Cluster membership\")\n",
    "print(Cluster_df2['Cluster_ID'].value_counts())\n",
    "# pairplot the cluster distribution.\n",
    "cluster_g = sns.pairplot(Cluster_df2, hue='Cluster_ID',diag_kind='hist',palette=\"Set1\")\n",
    "plt.show()\n",
    "    "
   ]
  },
  {
   "cell_type": "code",
   "execution_count": null,
   "metadata": {},
   "outputs": [],
   "source": []
  },
  {
   "cell_type": "code",
   "execution_count": null,
   "metadata": {},
   "outputs": [],
   "source": []
  },
  {
   "cell_type": "code",
   "execution_count": 107,
   "metadata": {
    "scrolled": false
   },
   "outputs": [
    {
     "name": "stdout",
     "output_type": "stream",
     "text": [
      "Distribution for cluster 0\n"
     ]
    },
    {
     "name": "stderr",
     "output_type": "stream",
     "text": [
      "C:\\Users\\GK\\anaconda3\\lib\\site-packages\\seaborn\\distributions.py:369: UserWarning: Default bandwidth for data is 0; skipping density estimation.\n",
      "  warnings.warn(msg, UserWarning)\n"
     ]
    },
    {
     "data": {
      "image/png": "[encoded data removed]",
      "text/plain": [
       "<Figure size 432x288 with 3 Axes>"
      ]
     },
     "metadata": {
      "needs_background": "light"
     },
     "output_type": "display_data"
    },
    {
     "name": "stdout",
     "output_type": "stream",
     "text": [
      "Distribution for cluster 1\n"
     ]
    },
    {
     "name": "stderr",
     "output_type": "stream",
     "text": [
      "C:\\Users\\GK\\anaconda3\\lib\\site-packages\\seaborn\\distributions.py:369: UserWarning: Default bandwidth for data is 0; skipping density estimation.\n",
      "  warnings.warn(msg, UserWarning)\n"
     ]
    },
    {
     "data": {
      "image/png": "[encoded data removed]",
      "text/plain": [
       "<Figure size 432x288 with 3 Axes>"
      ]
     },
     "metadata": {
      "needs_background": "light"
     },
     "output_type": "display_data"
    },
    {
     "name": "stdout",
     "output_type": "stream",
     "text": [
      "Distribution for cluster 2\n"
     ]
    },
    {
     "name": "stderr",
     "output_type": "stream",
     "text": [
      "C:\\Users\\GK\\anaconda3\\lib\\site-packages\\seaborn\\distributions.py:369: UserWarning: Default bandwidth for data is 0; skipping density estimation.\n",
      "  warnings.warn(msg, UserWarning)\n"
     ]
    },
    {
     "data": {
      "image/png": "[encoded data removed]",
      "text/plain": [
       "<Figure size 432x288 with 3 Axes>"
      ]
     },
     "metadata": {
      "needs_background": "light"
     },
     "output_type": "display_data"
    },
    {
     "name": "stdout",
     "output_type": "stream",
     "text": [
      "Distribution for cluster 3\n"
     ]
    },
    {
     "name": "stderr",
     "output_type": "stream",
     "text": [
      "C:\\Users\\GK\\anaconda3\\lib\\site-packages\\seaborn\\distributions.py:369: UserWarning: Default bandwidth for data is 0; skipping density estimation.\n",
      "  warnings.warn(msg, UserWarning)\n"
     ]
    },
    {
     "data": {
      "image/png": "[encoded data removed]",
      "text/plain": [
       "<Figure size 432x288 with 3 Axes>"
      ]
     },
     "metadata": {
      "needs_background": "light"
     },
     "output_type": "display_data"
    },
    {
     "name": "stdout",
     "output_type": "stream",
     "text": [
      "Distribution for cluster 4\n"
     ]
    },
    {
     "name": "stderr",
     "output_type": "stream",
     "text": [
      "C:\\Users\\GK\\anaconda3\\lib\\site-packages\\seaborn\\distributions.py:369: UserWarning: Default bandwidth for data is 0; skipping density estimation.\n",
      "  warnings.warn(msg, UserWarning)\n"
     ]
    },
    {
     "data": {
      "image/png": "[encoded data removed]",
      "text/plain": [
       "<Figure size 432x288 with 3 Axes>"
      ]
     },
     "metadata": {
      "needs_background": "light"
     },
     "output_type": "display_data"
    }
   ],
   "source": [
    "import warnings\n",
    "warnings.simplefilter(action='ignore', category=FutureWarning)\n",
    "# prepare the column and bin size. Increase bin size to be more specific, but 25 is more than enough\n",
    "kcols = ['HOSPITAL_TYPE','NUM_STAFFED_BEDS', 'AVG_VENTILATOR_USAGE']\n",
    "n_bins = 25\n",
    "\n",
    "# inspecting cluster 0 and 1\n",
    "kclusters_to_inspect = [0,1,2,3,4]\n",
    "\n",
    "for kcluster in kclusters_to_inspect:\n",
    "    # inspecting cluster 0\n",
    "    print(\"Distribution for cluster {}\".format(kcluster))\n",
    "\n",
    "    # create subplots\n",
    "    fig, ax = plt.subplots(nrows=3)\n",
    "    ax[0].set_title(\"Cluster {}\".format(kcluster))\n",
    "\n",
    "    for j, col in enumerate(kcols):\n",
    "        # create the bins\n",
    "        bins = np.linspace(min(Cluster_df2[col]), max(Cluster_df2[col]), 20)\n",
    "        # plot distribution of the cluster using histogram\n",
    "        sns.distplot(Cluster_df2[Cluster_df2['Cluster_ID'] == kcluster][col], bins=bins, ax=ax[j],norm_hist=True,color=\"b\" )\n",
    "        # plot the normal distribution with a black line\n",
    "        sns.distplot(Cluster_df2[col], bins=bins, ax=ax[j], hist=False, color=\"r\")\n",
    "\n",
    "    plt.tight_layout()\n",
    "    plt.show()"
   ]
  },
  {
   "cell_type": "markdown",
   "metadata": {},
   "source": [
    "<a id=\"differ\"></a>\n",
    "This cluster comparises of hospital type in addition to bed and ventilator. \n",
    "* Cluster 0: This cluster consist of **Long Term Acute Care Hospital** (5) along with fair number of **childern hospital**(4). \n",
    "* Cluster 1: This cluster consist of **Psychiatric Hospital**(6) along with **Rehabilitation Hospital**(7)\n",
    "* Cluster 2: This cluster consist of **Critical Access Hospital**(3) \n",
    "* Cluster 3: This cluster is quite unique than rest of cluster. We can observe that most this cluster comparise of **Critical Access Hospital**(2). Number of bed and ventilator use is inline with total data distribution.\n",
    "* Cluster 4: This cluster consist of less number of hospital but we can see that it has larger  number of bed and average number of ventilator usage is higher. This cluster must consist of big hospitals."
   ]
  },
  {
   "cell_type": "code",
   "execution_count": null,
   "metadata": {},
   "outputs": [],
   "source": []
  },
  {
   "cell_type": "code",
   "execution_count": null,
   "metadata": {},
   "outputs": [],
   "source": []
  },
  {
   "cell_type": "code",
   "execution_count": null,
   "metadata": {},
   "outputs": [],
   "source": []
  },
  {
   "cell_type": "code",
   "execution_count": null,
   "metadata": {},
   "outputs": [],
   "source": []
  },
  {
   "cell_type": "code",
   "execution_count": null,
   "metadata": {},
   "outputs": [],
   "source": []
  },
  {
   "cell_type": "code",
   "execution_count": null,
   "metadata": {},
   "outputs": [],
   "source": []
  }
 ],
 "metadata": {
  "kernelspec": {
   "display_name": "Python 3",
   "language": "python",
   "name": "python3"
  },
  "language_info": {
   "codemirror_mode": {
    "name": "ipython",
    "version": 3
   },
   "file_extension": ".py",
   "mimetype": "text/x-python",
   "name": "python",
   "nbconvert_exporter": "python",
   "pygments_lexer": "ipython3",
   "version": "3.8.3"
  }
 },
 "nbformat": 4,
 "nbformat_minor": 4
}
